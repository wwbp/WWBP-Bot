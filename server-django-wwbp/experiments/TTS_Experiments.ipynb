{
 "cells": [
  {
   "cell_type": "code",
   "execution_count": 1,
   "metadata": {},
   "outputs": [],
   "source": [
    "from google.cloud import texttospeech\n"
   ]
  },
  {
   "cell_type": "code",
   "execution_count": 2,
   "metadata": {},
   "outputs": [
    {
     "name": "stdout",
     "output_type": "stream",
     "text": [
      "GOOGLE_APPLICATION_CREDENTIALS is set to: /Users/aps/UPenn/WWBP-Bot/server-django-wwbp/google_credentials.json\n"
     ]
    }
   ],
   "source": [
    "import os\n",
    "\n",
    "# Set the path to your Google Cloud credentials\n",
    "os.environ[\"GOOGLE_APPLICATION_CREDENTIALS\"] = \"/Users/aps/UPenn/WWBP-Bot/server-django-wwbp/google_credentials.json\"\n",
    "\n",
    "# Verify the environment variable is set correctly\n",
    "print(\"GOOGLE_APPLICATION_CREDENTIALS is set to:\", os.environ.get(\"GOOGLE_APPLICATION_CREDENTIALS\"))\n"
   ]
  },
  {
   "cell_type": "code",
   "execution_count": 3,
   "metadata": {},
   "outputs": [],
   "source": [
    "# Function to convert text to speech\n",
    "def text_to_speech(text, voice_speed=1.0, pitch=0.0, language_code=\"en-US\", voice_name=\"en-US-Standard-F\"):\n",
    "    \"\"\"\n",
    "    Function to convert text to speech using Google Cloud Text-to-Speech API.\n",
    "    :param text: The input text to be converted to speech.\n",
    "    :param voice_speed: The speed at which the voice will speak.\n",
    "    :param pitch: The pitch level of the voice.\n",
    "    :param language_code: The language code for the voice.\n",
    "    :param voice_name: The specific voice name to use for synthesis.\n",
    "    :return: Audio content in MP3 format.\n",
    "    \"\"\"\n",
    "    try:\n",
    "        # Initialize the Text-to-Speech client\n",
    "        client = texttospeech.TextToSpeechClient()\n",
    "\n",
    "        # Prepare the input text\n",
    "        ssml_text = f\"<speak>{text}</speak>\"\n",
    "        input_text = texttospeech.SynthesisInput(ssml=ssml_text)\n",
    "\n",
    "        # Select the voice parameters\n",
    "        voice = texttospeech.VoiceSelectionParams(\n",
    "            language_code=language_code,\n",
    "            name=voice_name,\n",
    "            ssml_gender=texttospeech.SsmlVoiceGender.FEMALE,\n",
    "        )\n",
    "\n",
    "        # Configure the audio settings\n",
    "        audio_config = texttospeech.AudioConfig(\n",
    "            audio_encoding=texttospeech.AudioEncoding.MP3,\n",
    "            speaking_rate=voice_speed,\n",
    "            pitch=pitch,\n",
    "        )\n",
    "\n",
    "        # Perform the text-to-speech request\n",
    "        response = client.synthesize_speech(\n",
    "            input=input_text, voice=voice, audio_config=audio_config)\n",
    "\n",
    "        return response.audio_content\n",
    "\n",
    "    except Exception as e:\n",
    "        print(f\"Error during text-to-speech synthesis: {e}\")\n",
    "        return None\n",
    "\n"
   ]
  },
  {
   "cell_type": "code",
   "execution_count": 4,
   "metadata": {},
   "outputs": [
    {
     "name": "stderr",
     "output_type": "stream",
     "text": [
      "WARNING: All log messages before absl::InitializeLog() is called are written to STDERR\n",
      "I0000 00:00:1728919527.774444  998935 config.cc:230] gRPC experiments enabled: call_status_override_on_cancellation, event_engine_dns, event_engine_listener, http2_stats_fix, monitoring_experiment, pick_first_new, trace_record_callops, work_serializer_clears_time_cache\n",
      "I0000 00:00:1728919527.784044  998935 check_gcp_environment_no_op.cc:29] ALTS: Platforms other than Linux and Windows are not supported\n"
     ]
    },
    {
     "name": "stdout",
     "output_type": "stream",
     "text": [
      "Audio content has been saved as 'output.mp3'\n"
     ]
    }
   ],
   "source": [
    "# Example usage in the notebook\n",
    "text = \"Hello, this is a test of the text-to-speech functionality. I am working with Ostriches\"\n",
    "audio_content = text_to_speech(text)\n",
    "\n",
    "# Saving the audio file to test\n",
    "if audio_content:\n",
    "    with open(\"output.mp3\", \"wb\") as out:\n",
    "        out.write(audio_content)\n",
    "    print(\"Audio content has been saved as 'output.mp3'\")\n"
   ]
  },
  {
   "cell_type": "code",
   "execution_count": 6,
   "metadata": {},
   "outputs": [
    {
     "name": "stderr",
     "output_type": "stream",
     "text": [
      "/var/folders/kp/0vgq6t0546x2dvvpdn54dcc40000gn/T/ipykernel_40430/2326990500.py:11: DeprecationWarning: Due to a bug, this method doesn't actually stream the response content, `.with_streaming_response.method()` should be used instead\n",
      "  response.stream_to_file(\"output.mp3\")\n"
     ]
    }
   ],
   "source": [
    "from openai import OpenAI\n",
    "\n",
    "client = OpenAI()\n",
    "\n",
    "response = client.audio.speech.create(\n",
    "    model=\"tts-1\",\n",
    "    voice=\"alloy\",\n",
    "    input=\"Hello, this is a test of the text-to-speech functionality. I am working with Ostriches\",\n",
    ")\n",
    "\n",
    "response.stream_to_file(\"output.mp3\")"
   ]
  },
  {
   "cell_type": "code",
   "execution_count": null,
   "metadata": {},
   "outputs": [],
   "source": []
  }
 ],
 "metadata": {
  "kernelspec": {
   "display_name": "backend-sbEesSBr",
   "language": "python",
   "name": "python3"
  },
  "language_info": {
   "codemirror_mode": {
    "name": "ipython",
    "version": 3
   },
   "file_extension": ".py",
   "mimetype": "text/x-python",
   "name": "python",
   "nbconvert_exporter": "python",
   "pygments_lexer": "ipython3",
   "version": "3.9.6"
  }
 },
 "nbformat": 4,
 "nbformat_minor": 2
}
