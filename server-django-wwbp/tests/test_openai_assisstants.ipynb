{
 "cells": [
  {
   "cell_type": "code",
   "execution_count": 1,
   "metadata": {},
   "outputs": [],
   "source": [
    "from openai import AssistantEventHandler\n",
    "from typing_extensions import override\n",
    "from openai import OpenAI"
   ]
  },
  {
   "cell_type": "code",
   "execution_count": 2,
   "metadata": {},
   "outputs": [],
   "source": [
    "client = OpenAI(api_key=\"\")"
   ]
  },
  {
   "cell_type": "code",
   "execution_count": 4,
   "metadata": {},
   "outputs": [],
   "source": [
    "\n",
    "assistant = client.beta.assistants.create(\n",
    "    name=\"Math Tutor 2\",\n",
    "    instructions=\"You are a personal math tutor. Write and run code to answer math questions.\",\n",
    "    tools=[{\"type\": \"code_interpreter\"}],\n",
    "    model=\"gpt-4o-mini\",\n",
    ")\n"
   ]
  },
  {
   "cell_type": "code",
   "execution_count": 5,
   "metadata": {},
   "outputs": [
    {
     "name": "stdout",
     "output_type": "stream",
     "text": [
      "['assitant asst_OKK3dLzKgwZDAIlmJSeHLPGt and name: Math Tutor 2', 'assitant asst_FHelaEujPggsGvVkuoYOHHo1 and name: Math Tutor 2', 'assitant asst_1PJdlUxPNPwrE6TolbaCWjdg and name: None', 'assitant asst_XRhVjpwkQMZTH3WBf5MqetYy and name: None', 'assitant asst_TYhg1Zypz2bLNGFsps54bSAP and name: None', 'assitant asst_31xdWePXKw2sGgit8XSgmWhg and name: None', 'assitant asst_nf84xtSxetR0R2qLj7BcR7R5 and name: None', 'assitant asst_IsWLrOozqZ9X2WPgz12Bj26M and name: None', 'assitant asst_Qf3dXdCsaykPw7xjZhDLCE6B and name: None', 'assitant asst_HA6Hodb6T9vI9iGVPoozaq6A and name: None', 'assitant asst_triOIFx8hOSIEYPur7nSt9bP and name: None', 'assitant asst_7nxIe1yV64IekfACuvLEvkBl and name: None', 'assitant asst_iBU0WrYAIkNMiOkZ7cXIZqnD and name: None', 'assitant asst_A4JIs705zGOZJhrDinP50B1I and name: None', 'assitant asst_e4Y9c5EZCrEXtfUrG4ClMDEG and name: None', 'assitant asst_n1DRLwPsgKiXUdDGrHQNa5Mq and name: None', 'assitant asst_JEBOctmi9z1oVIN8ifpoGMoz and name: None', 'assitant asst_D8eTOc4KsTMXtsN14ZgzxgmT and name: None', 'assitant asst_v9M7p4ruU4RwwBKu4L1zD7lU and name: None', 'assitant asst_o5PumgdEsOBHvcZuqQIJ4QWl and name: None']\n"
     ]
    }
   ],
   "source": [
    "my_assistants = client.beta.assistants.list(\n",
    "    order=\"desc\",\n",
    "    limit=\"20\",\n",
    ")\n",
    "print([f\"assitant {a.id} and name: {a.name}\" for a in my_assistants.data])"
   ]
  },
  {
   "cell_type": "code",
   "execution_count": 6,
   "metadata": {},
   "outputs": [],
   "source": [
    "\n",
    "thread = client.beta.threads.create()"
   ]
  },
  {
   "cell_type": "code",
   "execution_count": 7,
   "metadata": {},
   "outputs": [
    {
     "name": "stdout",
     "output_type": "stream",
     "text": [
      "\n",
      "assistant > code_interpreter\n",
      "\n",
      "import sympy as sp\n",
      "\n",
      "# Define the variable\n",
      "x = sp.symbols('x')\n",
      "\n",
      "# Define the equation\n",
      "equation = sp.Eq(3*x + 11, 14)\n",
      "\n",
      "# Solve the equation\n",
      "solution = sp.solve(equation, x)\n",
      "solution\n",
      "assistant > The solution to the equation \\( 3x + 11 = 14 \\) is \\( x = 1 \\)."
     ]
    }
   ],
   "source": [
    "message = client.beta.threads.messages.create(\n",
    "    thread_id=thread.id,\n",
    "    role=\"user\",\n",
    "    content=\"I need to solve the equation `3x + 11 = 14`. Can you help me?\"\n",
    ")\n",
    "\n",
    "\n",
    "# First, we create a EventHandler class to define\n",
    "# how we want to handle the events in the response stream.\n",
    "\n",
    "class EventHandler(AssistantEventHandler):\n",
    "    @override\n",
    "    def on_text_created(self, text) -> None:\n",
    "        print(f\"\\nassistant > \", end=\"\", flush=True)\n",
    "\n",
    "    @override\n",
    "    def on_text_delta(self, delta, snapshot):\n",
    "        print(delta.value, end=\"\", flush=True)\n",
    "\n",
    "    def on_tool_call_created(self, tool_call):\n",
    "        print(f\"\\nassistant > {tool_call.type}\\n\", flush=True)\n",
    "\n",
    "    def on_tool_call_delta(self, delta, snapshot):\n",
    "        if delta.type == 'code_interpreter':\n",
    "            if delta.code_interpreter.input:\n",
    "                print(delta.code_interpreter.input, end=\"\", flush=True)\n",
    "            if delta.code_interpreter.outputs:\n",
    "                print(f\"\\n\\noutput >\", flush=True)\n",
    "                for output in delta.code_interpreter.outputs:\n",
    "                    if output.type == \"logs\":\n",
    "                        print(f\"\\n{output.logs}\", flush=True)\n",
    "\n",
    "# Then, we use the `stream` SDK helper\n",
    "# with the `EventHandler` class to create the Run\n",
    "# and stream the response.\n",
    "\n",
    "\n",
    "with client.beta.threads.runs.stream(\n",
    "    thread_id=thread.id,\n",
    "    assistant_id=assistant.id,\n",
    "    instructions=\"Please address the user as Jane Doe. The user has a premium account.\",\n",
    "    event_handler=EventHandler(),\n",
    ") as stream:\n",
    "    stream.until_done()\n",
    "\n"
   ]
  },
  {
   "cell_type": "code",
   "execution_count": 8,
   "metadata": {},
   "outputs": [],
   "source": [
    "class StreamEventHandler(AssistantEventHandler):\n",
    "    # Iterator over just the text deltas in the stream\n",
    "    @override\n",
    "    def on_text_created(self, text) -> None:\n",
    "        # Callback that is fired when a text content block is created\n",
    "        # print(f\"\\nassistant > \", end=\"\", flush=True)\n",
    "        pass\n",
    "\n",
    "    @override\n",
    "    def on_text_delta(self, delta, snapshot):\n",
    "        \"\"\"Callback that is fired whenever a text content delta is returned\n",
    "        by the API.\n",
    "\n",
    "        The first argument is just the delta as sent by the API and the second argument\n",
    "        is the accumulated snapshot of the text. For example:\n",
    "\n",
    "        on_text_delta(TextDelta(value=\"The\"), Text(value=\"The\")),\n",
    "        on_text_delta(TextDelta(value=\" solution\"), Text(value=\"The solution\")),\n",
    "        on_text_delta(TextDelta(value=\" to\"), Text(value=\"The solution to\")),\n",
    "        on_text_delta(TextDelta(value=\" the\"), Text(value=\"The solution to the\")),\n",
    "        on_text_delta(TextDelta(value=\" equation\"), Text(value=\"The solution to the equivalent\")),\n",
    "        \"\"\"\n",
    "        # print(delta.value, end=\"\", flush=True)\n",
    "        pass"
   ]
  },
  {
   "cell_type": "code",
   "execution_count": 14,
   "metadata": {},
   "outputs": [
    {
     "name": "stdout",
     "output_type": "stream",
     "text": [
      "ThreadRunCreated(data=Run(id='run_DhEPZ3aVjsQzxaOUD3pm2YWd', assistant_id='asst_OKK3dLzKgwZDAIlmJSeHLPGt', cancelled_at=None, completed_at=None, created_at=1722475127, expires_at=1722475727, failed_at=None, incomplete_details=None, instructions='You are a personal math tutor. Write and run code to answer math questions.', last_error=None, max_completion_tokens=None, max_prompt_tokens=None, metadata={}, model='gpt-4o-mini', object='thread.run', parallel_tool_calls=True, required_action=None, response_format='auto', started_at=None, status='queued', thread_id='thread_ZndzViFqCouqyN7MH0GS2FQB', tool_choice='auto', tools=[CodeInterpreterTool(type='code_interpreter')], truncation_strategy=TruncationStrategy(type='auto', last_messages=None), usage=None, temperature=1.0, top_p=1.0, tool_resources={'code_interpreter': {'file_ids': []}}), event='thread.run.created')\n",
      "ThreadRunQueued(data=Run(id='run_DhEPZ3aVjsQzxaOUD3pm2YWd', assistant_id='asst_OKK3dLzKgwZDAIlmJSeHLPGt', cancelled_at=None, completed_at=None, created_at=1722475127, expires_at=1722475727, failed_at=None, incomplete_details=None, instructions='You are a personal math tutor. Write and run code to answer math questions.', last_error=None, max_completion_tokens=None, max_prompt_tokens=None, metadata={}, model='gpt-4o-mini', object='thread.run', parallel_tool_calls=True, required_action=None, response_format='auto', started_at=None, status='queued', thread_id='thread_ZndzViFqCouqyN7MH0GS2FQB', tool_choice='auto', tools=[CodeInterpreterTool(type='code_interpreter')], truncation_strategy=TruncationStrategy(type='auto', last_messages=None), usage=None, temperature=1.0, top_p=1.0, tool_resources={'code_interpreter': {'file_ids': []}}), event='thread.run.queued')\n",
      "ThreadRunInProgress(data=Run(id='run_DhEPZ3aVjsQzxaOUD3pm2YWd', assistant_id='asst_OKK3dLzKgwZDAIlmJSeHLPGt', cancelled_at=None, completed_at=None, created_at=1722475127, expires_at=1722475727, failed_at=None, incomplete_details=None, instructions='You are a personal math tutor. Write and run code to answer math questions.', last_error=None, max_completion_tokens=None, max_prompt_tokens=None, metadata={}, model='gpt-4o-mini', object='thread.run', parallel_tool_calls=True, required_action=None, response_format='auto', started_at=1722475127, status='in_progress', thread_id='thread_ZndzViFqCouqyN7MH0GS2FQB', tool_choice='auto', tools=[CodeInterpreterTool(type='code_interpreter')], truncation_strategy=TruncationStrategy(type='auto', last_messages=None), usage=None, temperature=1.0, top_p=1.0, tool_resources={'code_interpreter': {'file_ids': []}}), event='thread.run.in_progress')\n",
      "ThreadRunStepCreated(data=RunStep(id='step_qzi3SXTrpv8igcuKx38jYwd5', assistant_id='asst_OKK3dLzKgwZDAIlmJSeHLPGt', cancelled_at=None, completed_at=None, created_at=1722475128, expired_at=None, failed_at=None, last_error=None, metadata=None, object='thread.run.step', run_id='run_DhEPZ3aVjsQzxaOUD3pm2YWd', status='in_progress', step_details=MessageCreationStepDetails(message_creation=MessageCreation(message_id='msg_Pe4zHuwmfc1ZzZTeNMqUEWph'), type='message_creation'), thread_id='thread_ZndzViFqCouqyN7MH0GS2FQB', type='message_creation', usage=None, expires_at=1722475727), event='thread.run.step.created')\n",
      "ThreadRunStepInProgress(data=RunStep(id='step_qzi3SXTrpv8igcuKx38jYwd5', assistant_id='asst_OKK3dLzKgwZDAIlmJSeHLPGt', cancelled_at=None, completed_at=None, created_at=1722475128, expired_at=None, failed_at=None, last_error=None, metadata=None, object='thread.run.step', run_id='run_DhEPZ3aVjsQzxaOUD3pm2YWd', status='in_progress', step_details=MessageCreationStepDetails(message_creation=MessageCreation(message_id='msg_Pe4zHuwmfc1ZzZTeNMqUEWph'), type='message_creation'), thread_id='thread_ZndzViFqCouqyN7MH0GS2FQB', type='message_creation', usage=None, expires_at=1722475727), event='thread.run.step.in_progress')\n",
      "ThreadMessageCreated(data=Message(id='msg_Pe4zHuwmfc1ZzZTeNMqUEWph', assistant_id='asst_OKK3dLzKgwZDAIlmJSeHLPGt', attachments=[], completed_at=None, content=[], created_at=1722475128, incomplete_at=None, incomplete_details=None, metadata={}, object='thread.message', role='assistant', run_id='run_DhEPZ3aVjsQzxaOUD3pm2YWd', status='in_progress', thread_id='thread_ZndzViFqCouqyN7MH0GS2FQB'), event='thread.message.created')\n",
      "ThreadMessageInProgress(data=Message(id='msg_Pe4zHuwmfc1ZzZTeNMqUEWph', assistant_id='asst_OKK3dLzKgwZDAIlmJSeHLPGt', attachments=[], completed_at=None, content=[], created_at=1722475128, incomplete_at=None, incomplete_details=None, metadata={}, object='thread.message', role='assistant', run_id='run_DhEPZ3aVjsQzxaOUD3pm2YWd', status='in_progress', thread_id='thread_ZndzViFqCouqyN7MH0GS2FQB'), event='thread.message.in_progress')\n",
      "ThreadMessageDelta(data=MessageDeltaEvent(id='msg_Pe4zHuwmfc1ZzZTeNMqUEWph', delta=MessageDelta(content=[TextDeltaBlock(index=0, type='text', text=TextDelta(annotations=[], value='If'))], role=None), object='thread.message.delta'), event='thread.message.delta')\n",
      "If\n",
      "ThreadMessageDelta(data=MessageDeltaEvent(id='msg_Pe4zHuwmfc1ZzZTeNMqUEWph', delta=MessageDelta(content=[TextDeltaBlock(index=0, type='text', text=TextDelta(annotations=None, value=' you'))], role=None), object='thread.message.delta'), event='thread.message.delta')\n",
      " you\n",
      "ThreadMessageDelta(data=MessageDeltaEvent(id='msg_Pe4zHuwmfc1ZzZTeNMqUEWph', delta=MessageDelta(content=[TextDeltaBlock(index=0, type='text', text=TextDelta(annotations=None, value=' have'))], role=None), object='thread.message.delta'), event='thread.message.delta')\n",
      " have\n",
      "ThreadMessageDelta(data=MessageDeltaEvent(id='msg_Pe4zHuwmfc1ZzZTeNMqUEWph', delta=MessageDelta(content=[TextDeltaBlock(index=0, type='text', text=TextDelta(annotations=None, value=' any'))], role=None), object='thread.message.delta'), event='thread.message.delta')\n",
      " any\n",
      "ThreadMessageDelta(data=MessageDeltaEvent(id='msg_Pe4zHuwmfc1ZzZTeNMqUEWph', delta=MessageDelta(content=[TextDeltaBlock(index=0, type='text', text=TextDelta(annotations=None, value=' more'))], role=None), object='thread.message.delta'), event='thread.message.delta')\n",
      " more\n",
      "ThreadMessageDelta(data=MessageDeltaEvent(id='msg_Pe4zHuwmfc1ZzZTeNMqUEWph', delta=MessageDelta(content=[TextDeltaBlock(index=0, type='text', text=TextDelta(annotations=None, value=' questions'))], role=None), object='thread.message.delta'), event='thread.message.delta')\n",
      " questions\n",
      "ThreadMessageDelta(data=MessageDeltaEvent(id='msg_Pe4zHuwmfc1ZzZTeNMqUEWph', delta=MessageDelta(content=[TextDeltaBlock(index=0, type='text', text=TextDelta(annotations=None, value=' or'))], role=None), object='thread.message.delta'), event='thread.message.delta')\n",
      " or\n",
      "ThreadMessageDelta(data=MessageDeltaEvent(id='msg_Pe4zHuwmfc1ZzZTeNMqUEWph', delta=MessageDelta(content=[TextDeltaBlock(index=0, type='text', text=TextDelta(annotations=None, value=' need'))], role=None), object='thread.message.delta'), event='thread.message.delta')\n",
      " need\n",
      "ThreadMessageDelta(data=MessageDeltaEvent(id='msg_Pe4zHuwmfc1ZzZTeNMqUEWph', delta=MessageDelta(content=[TextDeltaBlock(index=0, type='text', text=TextDelta(annotations=None, value=' help'))], role=None), object='thread.message.delta'), event='thread.message.delta')\n",
      " help\n",
      "ThreadMessageDelta(data=MessageDeltaEvent(id='msg_Pe4zHuwmfc1ZzZTeNMqUEWph', delta=MessageDelta(content=[TextDeltaBlock(index=0, type='text', text=TextDelta(annotations=None, value=' with'))], role=None), object='thread.message.delta'), event='thread.message.delta')\n",
      " with\n",
      "ThreadMessageDelta(data=MessageDeltaEvent(id='msg_Pe4zHuwmfc1ZzZTeNMqUEWph', delta=MessageDelta(content=[TextDeltaBlock(index=0, type='text', text=TextDelta(annotations=None, value=' other'))], role=None), object='thread.message.delta'), event='thread.message.delta')\n",
      " other\n",
      "ThreadMessageDelta(data=MessageDeltaEvent(id='msg_Pe4zHuwmfc1ZzZTeNMqUEWph', delta=MessageDelta(content=[TextDeltaBlock(index=0, type='text', text=TextDelta(annotations=None, value=' math'))], role=None), object='thread.message.delta'), event='thread.message.delta')\n",
      " math\n",
      "ThreadMessageDelta(data=MessageDeltaEvent(id='msg_Pe4zHuwmfc1ZzZTeNMqUEWph', delta=MessageDelta(content=[TextDeltaBlock(index=0, type='text', text=TextDelta(annotations=None, value=' problems'))], role=None), object='thread.message.delta'), event='thread.message.delta')\n",
      " problems\n",
      "ThreadMessageDelta(data=MessageDeltaEvent(id='msg_Pe4zHuwmfc1ZzZTeNMqUEWph', delta=MessageDelta(content=[TextDeltaBlock(index=0, type='text', text=TextDelta(annotations=None, value=','))], role=None), object='thread.message.delta'), event='thread.message.delta')\n",
      ",\n",
      "ThreadMessageDelta(data=MessageDeltaEvent(id='msg_Pe4zHuwmfc1ZzZTeNMqUEWph', delta=MessageDelta(content=[TextDeltaBlock(index=0, type='text', text=TextDelta(annotations=None, value=' feel'))], role=None), object='thread.message.delta'), event='thread.message.delta')\n",
      " feel\n",
      "ThreadMessageDelta(data=MessageDeltaEvent(id='msg_Pe4zHuwmfc1ZzZTeNMqUEWph', delta=MessageDelta(content=[TextDeltaBlock(index=0, type='text', text=TextDelta(annotations=None, value=' free'))], role=None), object='thread.message.delta'), event='thread.message.delta')\n",
      " free\n",
      "ThreadMessageDelta(data=MessageDeltaEvent(id='msg_Pe4zHuwmfc1ZzZTeNMqUEWph', delta=MessageDelta(content=[TextDeltaBlock(index=0, type='text', text=TextDelta(annotations=None, value=' to'))], role=None), object='thread.message.delta'), event='thread.message.delta')\n",
      " to\n",
      "ThreadMessageDelta(data=MessageDeltaEvent(id='msg_Pe4zHuwmfc1ZzZTeNMqUEWph', delta=MessageDelta(content=[TextDeltaBlock(index=0, type='text', text=TextDelta(annotations=None, value=' ask'))], role=None), object='thread.message.delta'), event='thread.message.delta')\n",
      " ask\n",
      "ThreadMessageDelta(data=MessageDeltaEvent(id='msg_Pe4zHuwmfc1ZzZTeNMqUEWph', delta=MessageDelta(content=[TextDeltaBlock(index=0, type='text', text=TextDelta(annotations=None, value='!'))], role=None), object='thread.message.delta'), event='thread.message.delta')\n",
      "!\n",
      "ThreadMessageCompleted(data=Message(id='msg_Pe4zHuwmfc1ZzZTeNMqUEWph', assistant_id='asst_OKK3dLzKgwZDAIlmJSeHLPGt', attachments=[], completed_at=1722475128, content=[TextContentBlock(text=Text(annotations=[], value='If you have any more questions or need help with other math problems, feel free to ask!'), type='text')], created_at=1722475128, incomplete_at=None, incomplete_details=None, metadata={}, object='thread.message', role='assistant', run_id='run_DhEPZ3aVjsQzxaOUD3pm2YWd', status='completed', thread_id='thread_ZndzViFqCouqyN7MH0GS2FQB'), event='thread.message.completed')\n",
      "ThreadRunStepCompleted(data=RunStep(id='step_qzi3SXTrpv8igcuKx38jYwd5', assistant_id='asst_OKK3dLzKgwZDAIlmJSeHLPGt', cancelled_at=None, completed_at=1722475128, created_at=1722475128, expired_at=None, failed_at=None, last_error=None, metadata=None, object='thread.run.step', run_id='run_DhEPZ3aVjsQzxaOUD3pm2YWd', status='completed', step_details=MessageCreationStepDetails(message_creation=MessageCreation(message_id='msg_Pe4zHuwmfc1ZzZTeNMqUEWph'), type='message_creation'), thread_id='thread_ZndzViFqCouqyN7MH0GS2FQB', type='message_creation', usage=Usage(completion_tokens=21, prompt_tokens=372, total_tokens=393), expires_at=1722475727), event='thread.run.step.completed')\n",
      "ThreadRunCompleted(data=Run(id='run_DhEPZ3aVjsQzxaOUD3pm2YWd', assistant_id='asst_OKK3dLzKgwZDAIlmJSeHLPGt', cancelled_at=None, completed_at=1722475128, created_at=1722475127, expires_at=None, failed_at=None, incomplete_details=None, instructions='You are a personal math tutor. Write and run code to answer math questions.', last_error=None, max_completion_tokens=None, max_prompt_tokens=None, metadata={}, model='gpt-4o-mini', object='thread.run', parallel_tool_calls=True, required_action=None, response_format='auto', started_at=1722475127, status='completed', thread_id='thread_ZndzViFqCouqyN7MH0GS2FQB', tool_choice='auto', tools=[CodeInterpreterTool(type='code_interpreter')], truncation_strategy=TruncationStrategy(type='auto', last_messages=None), usage=Usage(completion_tokens=21, prompt_tokens=372, total_tokens=393), temperature=1.0, top_p=1.0, tool_resources={'code_interpreter': {'file_ids': []}}), event='thread.run.completed')\n"
     ]
    }
   ],
   "source": [
    "stream = client.beta.threads.runs.create(\n",
    "  thread_id=thread.id,\n",
    "  assistant_id=assistant.id,\n",
    "  stream=True\n",
    ")\n",
    "\n",
    "for event in stream:\n",
    "  # if event.data.status == 'completed':\n",
    "  print(event)\n",
    "  if event.event != \"thread.message.delta\":\n",
    "    continue\n",
    "\n",
    "  # for content_delta in event.data.delta.content or []:\n",
    "  #   if content_delta.type == \"text\" and content_delta.text and content_delta.text.value:\n",
    "  #       print(content_delta.text.value)\n",
    "  print(event.data.delta.content[0].text.value)\n"
   ]
  },
  {
   "cell_type": "code",
   "execution_count": 25,
   "metadata": {},
   "outputs": [
    {
     "ename": "SyntaxError",
     "evalue": "invalid syntax (1711408863.py, line 11)",
     "output_type": "error",
     "traceback": [
      "\u001b[0;36m  Cell \u001b[0;32mIn[25], line 11\u001b[0;36m\u001b[0m\n\u001b[0;31m    print(stream.)\u001b[0m\n\u001b[0m                 ^\u001b[0m\n\u001b[0;31mSyntaxError\u001b[0m\u001b[0;31m:\u001b[0m invalid syntax\n"
     ]
    }
   ],
   "source": [
    "with client.beta.threads.runs.stream(\n",
    "    thread_id=thread.id,\n",
    "    assistant_id=assistant.id,\n",
    ") as stream:\n",
    "    if stream.on_text_created:\n",
    "        print('@@@@ start the big bang')\n",
    "    if stream.on_text_delta:\n",
    "        # for text in stream.text_deltas:\n",
    "        # print(*stream.text_deltas, end=\"\", flush=True)\n",
    "        print('-------')\n",
    "        print(stream.)\n",
    "    if stream.on_end:\n",
    "        print('####syaonara')"
   ]
  },
  {
   "cell_type": "code",
   "execution_count": null,
   "metadata": {},
   "outputs": [
    {
     "ename": "NotFoundError",
     "evalue": "Error code: 404 - {'error': {'message': \"No assistant found with id 'session.assistant_id'.\", 'type': 'invalid_request_error', 'param': None, 'code': None}}",
     "output_type": "error",
     "traceback": [
      "\u001b[0;31m---------------------------------------------------------------------------\u001b[0m",
      "\u001b[0;31mNotFoundError\u001b[0m                             Traceback (most recent call last)",
      "Cell \u001b[0;32mIn[17], line 1\u001b[0m\n\u001b[0;32m----> 1\u001b[0m assistant \u001b[38;5;241m=\u001b[39m \u001b[43mclient\u001b[49m\u001b[38;5;241;43m.\u001b[39;49m\u001b[43mbeta\u001b[49m\u001b[38;5;241;43m.\u001b[39;49m\u001b[43massistants\u001b[49m\u001b[38;5;241;43m.\u001b[39;49m\u001b[43mretrieve\u001b[49m\u001b[43m(\u001b[49m\n\u001b[1;32m      2\u001b[0m \u001b[43m                \u001b[49m\u001b[38;5;124;43m\"\u001b[39;49m\u001b[38;5;124;43msession.assistant_id\u001b[39;49m\u001b[38;5;124;43m\"\u001b[39;49m\u001b[43m)\u001b[49m\n",
      "File \u001b[0;32m~/.local/share/virtualenvs/backend-sbEesSBr/lib/python3.9/site-packages/openai/resources/beta/assistants.py:205\u001b[0m, in \u001b[0;36mAssistants.retrieve\u001b[0;34m(self, assistant_id, extra_headers, extra_query, extra_body, timeout)\u001b[0m\n\u001b[1;32m    203\u001b[0m     \u001b[38;5;28;01mraise\u001b[39;00m \u001b[38;5;167;01mValueError\u001b[39;00m(\u001b[38;5;124mf\u001b[39m\u001b[38;5;124m\"\u001b[39m\u001b[38;5;124mExpected a non-empty value for `assistant_id` but received \u001b[39m\u001b[38;5;132;01m{\u001b[39;00massistant_id\u001b[38;5;132;01m!r}\u001b[39;00m\u001b[38;5;124m\"\u001b[39m)\n\u001b[1;32m    204\u001b[0m extra_headers \u001b[38;5;241m=\u001b[39m {\u001b[38;5;124m\"\u001b[39m\u001b[38;5;124mOpenAI-Beta\u001b[39m\u001b[38;5;124m\"\u001b[39m: \u001b[38;5;124m\"\u001b[39m\u001b[38;5;124massistants=v2\u001b[39m\u001b[38;5;124m\"\u001b[39m, \u001b[38;5;241m*\u001b[39m\u001b[38;5;241m*\u001b[39m(extra_headers \u001b[38;5;129;01mor\u001b[39;00m {})}\n\u001b[0;32m--> 205\u001b[0m \u001b[38;5;28;01mreturn\u001b[39;00m \u001b[38;5;28;43mself\u001b[39;49m\u001b[38;5;241;43m.\u001b[39;49m\u001b[43m_get\u001b[49m\u001b[43m(\u001b[49m\n\u001b[1;32m    206\u001b[0m \u001b[43m    \u001b[49m\u001b[38;5;124;43mf\u001b[39;49m\u001b[38;5;124;43m\"\u001b[39;49m\u001b[38;5;124;43m/assistants/\u001b[39;49m\u001b[38;5;132;43;01m{\u001b[39;49;00m\u001b[43massistant_id\u001b[49m\u001b[38;5;132;43;01m}\u001b[39;49;00m\u001b[38;5;124;43m\"\u001b[39;49m\u001b[43m,\u001b[49m\n\u001b[1;32m    207\u001b[0m \u001b[43m    \u001b[49m\u001b[43moptions\u001b[49m\u001b[38;5;241;43m=\u001b[39;49m\u001b[43mmake_request_options\u001b[49m\u001b[43m(\u001b[49m\n\u001b[1;32m    208\u001b[0m \u001b[43m        \u001b[49m\u001b[43mextra_headers\u001b[49m\u001b[38;5;241;43m=\u001b[39;49m\u001b[43mextra_headers\u001b[49m\u001b[43m,\u001b[49m\u001b[43m \u001b[49m\u001b[43mextra_query\u001b[49m\u001b[38;5;241;43m=\u001b[39;49m\u001b[43mextra_query\u001b[49m\u001b[43m,\u001b[49m\u001b[43m \u001b[49m\u001b[43mextra_body\u001b[49m\u001b[38;5;241;43m=\u001b[39;49m\u001b[43mextra_body\u001b[49m\u001b[43m,\u001b[49m\u001b[43m \u001b[49m\u001b[43mtimeout\u001b[49m\u001b[38;5;241;43m=\u001b[39;49m\u001b[43mtimeout\u001b[49m\n\u001b[1;32m    209\u001b[0m \u001b[43m    \u001b[49m\u001b[43m)\u001b[49m\u001b[43m,\u001b[49m\n\u001b[1;32m    210\u001b[0m \u001b[43m    \u001b[49m\u001b[43mcast_to\u001b[49m\u001b[38;5;241;43m=\u001b[39;49m\u001b[43mAssistant\u001b[49m\u001b[43m,\u001b[49m\n\u001b[1;32m    211\u001b[0m \u001b[43m\u001b[49m\u001b[43m)\u001b[49m\n",
      "File \u001b[0;32m~/.local/share/virtualenvs/backend-sbEesSBr/lib/python3.9/site-packages/openai/_base_client.py:1193\u001b[0m, in \u001b[0;36mSyncAPIClient.get\u001b[0;34m(self, path, cast_to, options, stream, stream_cls)\u001b[0m\n\u001b[1;32m   1190\u001b[0m opts \u001b[38;5;241m=\u001b[39m FinalRequestOptions\u001b[38;5;241m.\u001b[39mconstruct(method\u001b[38;5;241m=\u001b[39m\u001b[38;5;124m\"\u001b[39m\u001b[38;5;124mget\u001b[39m\u001b[38;5;124m\"\u001b[39m, url\u001b[38;5;241m=\u001b[39mpath, \u001b[38;5;241m*\u001b[39m\u001b[38;5;241m*\u001b[39moptions)\n\u001b[1;32m   1191\u001b[0m \u001b[38;5;66;03m# cast is required because mypy complains about returning Any even though\u001b[39;00m\n\u001b[1;32m   1192\u001b[0m \u001b[38;5;66;03m# it understands the type variables\u001b[39;00m\n\u001b[0;32m-> 1193\u001b[0m \u001b[38;5;28;01mreturn\u001b[39;00m cast(ResponseT, \u001b[38;5;28;43mself\u001b[39;49m\u001b[38;5;241;43m.\u001b[39;49m\u001b[43mrequest\u001b[49m\u001b[43m(\u001b[49m\u001b[43mcast_to\u001b[49m\u001b[43m,\u001b[49m\u001b[43m \u001b[49m\u001b[43mopts\u001b[49m\u001b[43m,\u001b[49m\u001b[43m \u001b[49m\u001b[43mstream\u001b[49m\u001b[38;5;241;43m=\u001b[39;49m\u001b[43mstream\u001b[49m\u001b[43m,\u001b[49m\u001b[43m \u001b[49m\u001b[43mstream_cls\u001b[49m\u001b[38;5;241;43m=\u001b[39;49m\u001b[43mstream_cls\u001b[49m\u001b[43m)\u001b[49m)\n",
      "File \u001b[0;32m~/.local/share/virtualenvs/backend-sbEesSBr/lib/python3.9/site-packages/openai/_base_client.py:931\u001b[0m, in \u001b[0;36mSyncAPIClient.request\u001b[0;34m(self, cast_to, options, remaining_retries, stream, stream_cls)\u001b[0m\n\u001b[1;32m    922\u001b[0m \u001b[38;5;28;01mdef\u001b[39;00m \u001b[38;5;21mrequest\u001b[39m(\n\u001b[1;32m    923\u001b[0m     \u001b[38;5;28mself\u001b[39m,\n\u001b[1;32m    924\u001b[0m     cast_to: Type[ResponseT],\n\u001b[0;32m   (...)\u001b[0m\n\u001b[1;32m    929\u001b[0m     stream_cls: \u001b[38;5;28mtype\u001b[39m[_StreamT] \u001b[38;5;241m|\u001b[39m \u001b[38;5;28;01mNone\u001b[39;00m \u001b[38;5;241m=\u001b[39m \u001b[38;5;28;01mNone\u001b[39;00m,\n\u001b[1;32m    930\u001b[0m ) \u001b[38;5;241m-\u001b[39m\u001b[38;5;241m>\u001b[39m ResponseT \u001b[38;5;241m|\u001b[39m _StreamT:\n\u001b[0;32m--> 931\u001b[0m     \u001b[38;5;28;01mreturn\u001b[39;00m \u001b[38;5;28;43mself\u001b[39;49m\u001b[38;5;241;43m.\u001b[39;49m\u001b[43m_request\u001b[49m\u001b[43m(\u001b[49m\n\u001b[1;32m    932\u001b[0m \u001b[43m        \u001b[49m\u001b[43mcast_to\u001b[49m\u001b[38;5;241;43m=\u001b[39;49m\u001b[43mcast_to\u001b[49m\u001b[43m,\u001b[49m\n\u001b[1;32m    933\u001b[0m \u001b[43m        \u001b[49m\u001b[43moptions\u001b[49m\u001b[38;5;241;43m=\u001b[39;49m\u001b[43moptions\u001b[49m\u001b[43m,\u001b[49m\n\u001b[1;32m    934\u001b[0m \u001b[43m        \u001b[49m\u001b[43mstream\u001b[49m\u001b[38;5;241;43m=\u001b[39;49m\u001b[43mstream\u001b[49m\u001b[43m,\u001b[49m\n\u001b[1;32m    935\u001b[0m \u001b[43m        \u001b[49m\u001b[43mstream_cls\u001b[49m\u001b[38;5;241;43m=\u001b[39;49m\u001b[43mstream_cls\u001b[49m\u001b[43m,\u001b[49m\n\u001b[1;32m    936\u001b[0m \u001b[43m        \u001b[49m\u001b[43mremaining_retries\u001b[49m\u001b[38;5;241;43m=\u001b[39;49m\u001b[43mremaining_retries\u001b[49m\u001b[43m,\u001b[49m\n\u001b[1;32m    937\u001b[0m \u001b[43m    \u001b[49m\u001b[43m)\u001b[49m\n",
      "File \u001b[0;32m~/.local/share/virtualenvs/backend-sbEesSBr/lib/python3.9/site-packages/openai/_base_client.py:1030\u001b[0m, in \u001b[0;36mSyncAPIClient._request\u001b[0;34m(self, cast_to, options, remaining_retries, stream, stream_cls)\u001b[0m\n\u001b[1;32m   1027\u001b[0m         err\u001b[38;5;241m.\u001b[39mresponse\u001b[38;5;241m.\u001b[39mread()\n\u001b[1;32m   1029\u001b[0m     log\u001b[38;5;241m.\u001b[39mdebug(\u001b[38;5;124m\"\u001b[39m\u001b[38;5;124mRe-raising status error\u001b[39m\u001b[38;5;124m\"\u001b[39m)\n\u001b[0;32m-> 1030\u001b[0m     \u001b[38;5;28;01mraise\u001b[39;00m \u001b[38;5;28mself\u001b[39m\u001b[38;5;241m.\u001b[39m_make_status_error_from_response(err\u001b[38;5;241m.\u001b[39mresponse) \u001b[38;5;28;01mfrom\u001b[39;00m \u001b[38;5;28;01mNone\u001b[39;00m\n\u001b[1;32m   1032\u001b[0m \u001b[38;5;28;01mreturn\u001b[39;00m \u001b[38;5;28mself\u001b[39m\u001b[38;5;241m.\u001b[39m_process_response(\n\u001b[1;32m   1033\u001b[0m     cast_to\u001b[38;5;241m=\u001b[39mcast_to,\n\u001b[1;32m   1034\u001b[0m     options\u001b[38;5;241m=\u001b[39moptions,\n\u001b[0;32m   (...)\u001b[0m\n\u001b[1;32m   1037\u001b[0m     stream_cls\u001b[38;5;241m=\u001b[39mstream_cls,\n\u001b[1;32m   1038\u001b[0m )\n",
      "\u001b[0;31mNotFoundError\u001b[0m: Error code: 404 - {'error': {'message': \"No assistant found with id 'session.assistant_id'.\", 'type': 'invalid_request_error', 'param': None, 'code': None}}"
     ]
    }
   ],
   "source": [
    "assistant = client.beta.assistants.retrieve(\n",
    "                \"session.assistant_id\")"
   ]
  },
  {
   "cell_type": "code",
   "execution_count": 15,
   "metadata": {},
   "outputs": [
    {
     "name": "stdout",
     "output_type": "stream",
     "text": [
      "ThreadRunCreated(data=Run(id='run_dihrhxSndbtjzGhQB5bzSJAw', assistant_id='asst_OKK3dLzKgwZDAIlmJSeHLPGt', cancelled_at=None, completed_at=None, created_at=1722475180, expires_at=1722475780, failed_at=None, incomplete_details=None, instructions='You are a personal math tutor. Write and run code to answer math questions.', last_error=None, max_completion_tokens=None, max_prompt_tokens=None, metadata={}, model='gpt-4o-mini', object='thread.run', parallel_tool_calls=True, required_action=None, response_format='auto', started_at=None, status='queued', thread_id='thread_ZndzViFqCouqyN7MH0GS2FQB', tool_choice='auto', tools=[CodeInterpreterTool(type='code_interpreter')], truncation_strategy=TruncationStrategy(type='auto', last_messages=None), usage=None, temperature=1.0, top_p=1.0, tool_resources={'code_interpreter': {'file_ids': []}}), event='thread.run.created')\n",
      "ThreadRunQueued(data=Run(id='run_dihrhxSndbtjzGhQB5bzSJAw', assistant_id='asst_OKK3dLzKgwZDAIlmJSeHLPGt', cancelled_at=None, completed_at=None, created_at=1722475180, expires_at=1722475780, failed_at=None, incomplete_details=None, instructions='You are a personal math tutor. Write and run code to answer math questions.', last_error=None, max_completion_tokens=None, max_prompt_tokens=None, metadata={}, model='gpt-4o-mini', object='thread.run', parallel_tool_calls=True, required_action=None, response_format='auto', started_at=None, status='queued', thread_id='thread_ZndzViFqCouqyN7MH0GS2FQB', tool_choice='auto', tools=[CodeInterpreterTool(type='code_interpreter')], truncation_strategy=TruncationStrategy(type='auto', last_messages=None), usage=None, temperature=1.0, top_p=1.0, tool_resources={'code_interpreter': {'file_ids': []}}), event='thread.run.queued')\n",
      "ThreadRunInProgress(data=Run(id='run_dihrhxSndbtjzGhQB5bzSJAw', assistant_id='asst_OKK3dLzKgwZDAIlmJSeHLPGt', cancelled_at=None, completed_at=None, created_at=1722475180, expires_at=1722475780, failed_at=None, incomplete_details=None, instructions='You are a personal math tutor. Write and run code to answer math questions.', last_error=None, max_completion_tokens=None, max_prompt_tokens=None, metadata={}, model='gpt-4o-mini', object='thread.run', parallel_tool_calls=True, required_action=None, response_format='auto', started_at=1722475180, status='in_progress', thread_id='thread_ZndzViFqCouqyN7MH0GS2FQB', tool_choice='auto', tools=[CodeInterpreterTool(type='code_interpreter')], truncation_strategy=TruncationStrategy(type='auto', last_messages=None), usage=None, temperature=1.0, top_p=1.0, tool_resources={'code_interpreter': {'file_ids': []}}), event='thread.run.in_progress')\n",
      "ThreadRunStepCreated(data=RunStep(id='step_qLIQlQexKQMz4ilQH9o6hVDB', assistant_id='asst_OKK3dLzKgwZDAIlmJSeHLPGt', cancelled_at=None, completed_at=None, created_at=1722475180, expired_at=None, failed_at=None, last_error=None, metadata=None, object='thread.run.step', run_id='run_dihrhxSndbtjzGhQB5bzSJAw', status='in_progress', step_details=MessageCreationStepDetails(message_creation=MessageCreation(message_id='msg_0M3EK4YHoety7HAC65cTXjNQ'), type='message_creation'), thread_id='thread_ZndzViFqCouqyN7MH0GS2FQB', type='message_creation', usage=None, expires_at=1722475780), event='thread.run.step.created')\n",
      "ThreadRunStepInProgress(data=RunStep(id='step_qLIQlQexKQMz4ilQH9o6hVDB', assistant_id='asst_OKK3dLzKgwZDAIlmJSeHLPGt', cancelled_at=None, completed_at=None, created_at=1722475180, expired_at=None, failed_at=None, last_error=None, metadata=None, object='thread.run.step', run_id='run_dihrhxSndbtjzGhQB5bzSJAw', status='in_progress', step_details=MessageCreationStepDetails(message_creation=MessageCreation(message_id='msg_0M3EK4YHoety7HAC65cTXjNQ'), type='message_creation'), thread_id='thread_ZndzViFqCouqyN7MH0GS2FQB', type='message_creation', usage=None, expires_at=1722475780), event='thread.run.step.in_progress')\n",
      "ThreadMessageCreated(data=Message(id='msg_0M3EK4YHoety7HAC65cTXjNQ', assistant_id='asst_OKK3dLzKgwZDAIlmJSeHLPGt', attachments=[], completed_at=None, content=[], created_at=1722475180, incomplete_at=None, incomplete_details=None, metadata={}, object='thread.message', role='assistant', run_id='run_dihrhxSndbtjzGhQB5bzSJAw', status='in_progress', thread_id='thread_ZndzViFqCouqyN7MH0GS2FQB'), event='thread.message.created')\n",
      "ThreadMessageInProgress(data=Message(id='msg_0M3EK4YHoety7HAC65cTXjNQ', assistant_id='asst_OKK3dLzKgwZDAIlmJSeHLPGt', attachments=[], completed_at=None, content=[], created_at=1722475180, incomplete_at=None, incomplete_details=None, metadata={}, object='thread.message', role='assistant', run_id='run_dihrhxSndbtjzGhQB5bzSJAw', status='in_progress', thread_id='thread_ZndzViFqCouqyN7MH0GS2FQB'), event='thread.message.in_progress')\n",
      "ThreadMessageDelta(data=MessageDeltaEvent(id='msg_0M3EK4YHoety7HAC65cTXjNQ', delta=MessageDelta(content=[TextDeltaBlock(index=0, type='text', text=TextDelta(annotations=[], value='If'))], role=None), object='thread.message.delta'), event='thread.message.delta')\n",
      "If\n",
      "ThreadMessageDelta(data=MessageDeltaEvent(id='msg_0M3EK4YHoety7HAC65cTXjNQ', delta=MessageDelta(content=[TextDeltaBlock(index=0, type='text', text=TextDelta(annotations=None, value=' you'))], role=None), object='thread.message.delta'), event='thread.message.delta')\n",
      " you\n",
      "ThreadMessageDelta(data=MessageDeltaEvent(id='msg_0M3EK4YHoety7HAC65cTXjNQ', delta=MessageDelta(content=[TextDeltaBlock(index=0, type='text', text=TextDelta(annotations=None, value=' have'))], role=None), object='thread.message.delta'), event='thread.message.delta')\n",
      " have\n",
      "ThreadMessageDelta(data=MessageDeltaEvent(id='msg_0M3EK4YHoety7HAC65cTXjNQ', delta=MessageDelta(content=[TextDeltaBlock(index=0, type='text', text=TextDelta(annotations=None, value=' any'))], role=None), object='thread.message.delta'), event='thread.message.delta')\n",
      " any\n",
      "ThreadMessageDelta(data=MessageDeltaEvent(id='msg_0M3EK4YHoety7HAC65cTXjNQ', delta=MessageDelta(content=[TextDeltaBlock(index=0, type='text', text=TextDelta(annotations=None, value=' more'))], role=None), object='thread.message.delta'), event='thread.message.delta')\n",
      " more\n",
      "ThreadMessageDelta(data=MessageDeltaEvent(id='msg_0M3EK4YHoety7HAC65cTXjNQ', delta=MessageDelta(content=[TextDeltaBlock(index=0, type='text', text=TextDelta(annotations=None, value=' questions'))], role=None), object='thread.message.delta'), event='thread.message.delta')\n",
      " questions\n",
      "ThreadMessageDelta(data=MessageDeltaEvent(id='msg_0M3EK4YHoety7HAC65cTXjNQ', delta=MessageDelta(content=[TextDeltaBlock(index=0, type='text', text=TextDelta(annotations=None, value=' or'))], role=None), object='thread.message.delta'), event='thread.message.delta')\n",
      " or\n",
      "ThreadMessageDelta(data=MessageDeltaEvent(id='msg_0M3EK4YHoety7HAC65cTXjNQ', delta=MessageDelta(content=[TextDeltaBlock(index=0, type='text', text=TextDelta(annotations=None, value=' need'))], role=None), object='thread.message.delta'), event='thread.message.delta')\n",
      " need\n",
      "ThreadMessageDelta(data=MessageDeltaEvent(id='msg_0M3EK4YHoety7HAC65cTXjNQ', delta=MessageDelta(content=[TextDeltaBlock(index=0, type='text', text=TextDelta(annotations=None, value=' help'))], role=None), object='thread.message.delta'), event='thread.message.delta')\n",
      " help\n",
      "ThreadMessageDelta(data=MessageDeltaEvent(id='msg_0M3EK4YHoety7HAC65cTXjNQ', delta=MessageDelta(content=[TextDeltaBlock(index=0, type='text', text=TextDelta(annotations=None, value=' with'))], role=None), object='thread.message.delta'), event='thread.message.delta')\n",
      " with\n",
      "ThreadMessageDelta(data=MessageDeltaEvent(id='msg_0M3EK4YHoety7HAC65cTXjNQ', delta=MessageDelta(content=[TextDeltaBlock(index=0, type='text', text=TextDelta(annotations=None, value=' different'))], role=None), object='thread.message.delta'), event='thread.message.delta')\n",
      " different\n",
      "ThreadMessageDelta(data=MessageDeltaEvent(id='msg_0M3EK4YHoety7HAC65cTXjNQ', delta=MessageDelta(content=[TextDeltaBlock(index=0, type='text', text=TextDelta(annotations=None, value=' math'))], role=None), object='thread.message.delta'), event='thread.message.delta')\n",
      " math\n",
      "ThreadMessageDelta(data=MessageDeltaEvent(id='msg_0M3EK4YHoety7HAC65cTXjNQ', delta=MessageDelta(content=[TextDeltaBlock(index=0, type='text', text=TextDelta(annotations=None, value=' problems'))], role=None), object='thread.message.delta'), event='thread.message.delta')\n",
      " problems\n",
      "ThreadMessageDelta(data=MessageDeltaEvent(id='msg_0M3EK4YHoety7HAC65cTXjNQ', delta=MessageDelta(content=[TextDeltaBlock(index=0, type='text', text=TextDelta(annotations=None, value=','))], role=None), object='thread.message.delta'), event='thread.message.delta')\n",
      ",\n",
      "ThreadMessageDelta(data=MessageDeltaEvent(id='msg_0M3EK4YHoety7HAC65cTXjNQ', delta=MessageDelta(content=[TextDeltaBlock(index=0, type='text', text=TextDelta(annotations=None, value=' feel'))], role=None), object='thread.message.delta'), event='thread.message.delta')\n",
      " feel\n",
      "ThreadMessageDelta(data=MessageDeltaEvent(id='msg_0M3EK4YHoety7HAC65cTXjNQ', delta=MessageDelta(content=[TextDeltaBlock(index=0, type='text', text=TextDelta(annotations=None, value=' free'))], role=None), object='thread.message.delta'), event='thread.message.delta')\n",
      " free\n",
      "ThreadMessageDelta(data=MessageDeltaEvent(id='msg_0M3EK4YHoety7HAC65cTXjNQ', delta=MessageDelta(content=[TextDeltaBlock(index=0, type='text', text=TextDelta(annotations=None, value=' to'))], role=None), object='thread.message.delta'), event='thread.message.delta')\n",
      " to\n",
      "ThreadMessageDelta(data=MessageDeltaEvent(id='msg_0M3EK4YHoety7HAC65cTXjNQ', delta=MessageDelta(content=[TextDeltaBlock(index=0, type='text', text=TextDelta(annotations=None, value=' ask'))], role=None), object='thread.message.delta'), event='thread.message.delta')\n",
      " ask\n",
      "ThreadMessageDelta(data=MessageDeltaEvent(id='msg_0M3EK4YHoety7HAC65cTXjNQ', delta=MessageDelta(content=[TextDeltaBlock(index=0, type='text', text=TextDelta(annotations=None, value='!'))], role=None), object='thread.message.delta'), event='thread.message.delta')\n",
      "!\n",
      "ThreadMessageCompleted(data=Message(id='msg_0M3EK4YHoety7HAC65cTXjNQ', assistant_id='asst_OKK3dLzKgwZDAIlmJSeHLPGt', attachments=[], completed_at=1722475181, content=[TextContentBlock(text=Text(annotations=[], value='If you have any more questions or need help with different math problems, feel free to ask!'), type='text')], created_at=1722475180, incomplete_at=None, incomplete_details=None, metadata={}, object='thread.message', role='assistant', run_id='run_dihrhxSndbtjzGhQB5bzSJAw', status='completed', thread_id='thread_ZndzViFqCouqyN7MH0GS2FQB'), event='thread.message.completed')\n",
      "ThreadRunStepCompleted(data=RunStep(id='step_qLIQlQexKQMz4ilQH9o6hVDB', assistant_id='asst_OKK3dLzKgwZDAIlmJSeHLPGt', cancelled_at=None, completed_at=1722475181, created_at=1722475180, expired_at=None, failed_at=None, last_error=None, metadata=None, object='thread.run.step', run_id='run_dihrhxSndbtjzGhQB5bzSJAw', status='completed', step_details=MessageCreationStepDetails(message_creation=MessageCreation(message_id='msg_0M3EK4YHoety7HAC65cTXjNQ'), type='message_creation'), thread_id='thread_ZndzViFqCouqyN7MH0GS2FQB', type='message_creation', usage=Usage(completion_tokens=21, prompt_tokens=395, total_tokens=416), expires_at=1722475780), event='thread.run.step.completed')\n",
      "ThreadRunCompleted(data=Run(id='run_dihrhxSndbtjzGhQB5bzSJAw', assistant_id='asst_OKK3dLzKgwZDAIlmJSeHLPGt', cancelled_at=None, completed_at=1722475181, created_at=1722475180, expires_at=None, failed_at=None, incomplete_details=None, instructions='You are a personal math tutor. Write and run code to answer math questions.', last_error=None, max_completion_tokens=None, max_prompt_tokens=None, metadata={}, model='gpt-4o-mini', object='thread.run', parallel_tool_calls=True, required_action=None, response_format='auto', started_at=1722475180, status='completed', thread_id='thread_ZndzViFqCouqyN7MH0GS2FQB', tool_choice='auto', tools=[CodeInterpreterTool(type='code_interpreter')], truncation_strategy=TruncationStrategy(type='auto', last_messages=None), usage=Usage(completion_tokens=21, prompt_tokens=395, total_tokens=416), temperature=1.0, top_p=1.0, tool_resources={'code_interpreter': {'file_ids': []}}), event='thread.run.completed')\n",
      "Run Completed:\n",
      "Prompt Tokens: 395\n",
      "Completion Tokens: 21\n",
      "Total Tokens: 416\n"
     ]
    }
   ],
   "source": [
    "stream = client.beta.threads.runs.create(\n",
    "  thread_id=thread.id,\n",
    "  assistant_id=assistant.id,\n",
    "  stream=True\n",
    ")\n",
    "\n",
    "for event in stream:\n",
    "  # Print each event for debugging purposes\n",
    "  print(event)\n",
    "\n",
    "  # Check for when the run is completed\n",
    "  if event.event == \"thread.run.completed\":\n",
    "    # Access and print usage stats\n",
    "    usage = event.data.usage\n",
    "    print(\"Run Completed:\")\n",
    "    print(f\"Prompt Tokens: {usage.prompt_tokens}\")\n",
    "    print(f\"Completion Tokens: {usage.completion_tokens}\")\n",
    "    print(f\"Total Tokens: {usage.total_tokens}\")\n",
    "    break  # Exit the loop after capturing the final stats\n",
    "\n",
    "  # Continue processing other events as needed\n",
    "  if event.event == \"thread.message.delta\":\n",
    "    # Handle message deltas\n",
    "    print(event.data.delta.content[0].text.value)\n"
   ]
  },
  {
   "cell_type": "code",
   "execution_count": null,
   "metadata": {},
   "outputs": [],
   "source": []
  },
  {
   "cell_type": "code",
   "execution_count": null,
   "metadata": {},
   "outputs": [],
   "source": []
  },
  {
   "cell_type": "code",
   "execution_count": null,
   "metadata": {},
   "outputs": [],
   "source": []
  }
 ],
 "metadata": {
  "kernelspec": {
   "display_name": "backend-sbEesSBr",
   "language": "python",
   "name": "python3"
  },
  "language_info": {
   "codemirror_mode": {
    "name": "ipython",
    "version": 3
   },
   "file_extension": ".py",
   "mimetype": "text/x-python",
   "name": "python",
   "nbconvert_exporter": "python",
   "pygments_lexer": "ipython3",
   "version": "3.9.6"
  }
 },
 "nbformat": 4,
 "nbformat_minor": 2
}
